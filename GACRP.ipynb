{
  "cells": [
    {
      "metadata": {
        "_uuid": "8f2839f25d086af736a60e9eeb907d3b93b6e0e5",
        "_cell_guid": "b1076dfc-b9ad-4769-8c92-a6c4dae69d19",
        "trusted": true
      },
      "cell_type": "markdown",
      "source": "## Introduction\nIn this kernel I demonstrate how to create predictions at Session level and then use them at User level so that LighGBM can learn how to better sum individual session prediction.\n\nIt is sort of mini stacker and to avoid leakage, we use GroupKFold strategy."
    },
    {
      "metadata": {
        "trusted": true,
        "_uuid": "f2a8cec43b16bfc1b419a6cdd989bc45936e452b"
      },
      "cell_type": "code",
      "source": "import os\nprint(os.listdir(\"../input\"))",
      "execution_count": 4,
      "outputs": [
        {
          "output_type": "stream",
          "text": "['train.csv', 'sample_submission.csv', 'test.csv']\n",
          "name": "stdout"
        }
      ]
    },
    {
      "metadata": {
        "_cell_guid": "79c7e3d0-c299-4dcb-8224-4455121ee9b0",
        "_uuid": "d629ff2d2480ee46fbb7e2d37f6b5fab8052498a",
        "trusted": true
      },
      "cell_type": "code",
      "source": "import pandas as pd\nimport numpy as np\nimport matplotlib.pyplot as plt\nimport seaborn as sns\nfrom sklearn.metrics import mean_squared_error\nimport gc\nimport time\nfrom pandas.core.common import SettingWithCopyWarning\nimport warnings\nimport lightgbm as lgb\nfrom sklearn.model_selection import GroupKFold\n\n# I don't like SettingWithCopyWarnings ...\nwarnings.simplefilter('error', SettingWithCopyWarning)\ngc.enable()\n%matplotlib inline",
      "execution_count": 5,
      "outputs": []
    },
    {
      "metadata": {
        "_uuid": "7cc03fe71aeb15ef6b3dad876d5877a24a81ea42"
      },
      "cell_type": "markdown",
      "source": "### Get the extracted data"
    },
    {
      "metadata": {
        "trusted": true,
        "_uuid": "9535325a9cb4d6f8ec0b3395400b8a0d2dafbb61",
        "_kg_hide-input": true
      },
      "cell_type": "code",
      "source": "train = pd.read_csv('../input/train.csv',dtype={'date': str, 'fullVisitorId': str, 'sessionId':str}, nrows=None)\ntest = pd.read_csv('../input/test.csv', dtype={'date': str, 'fullVisitorId': str, 'sessionId':str}, nrows=None)\ntrain.shape, test.shape",
      "execution_count": 22,
      "outputs": [
        {
          "output_type": "execute_result",
          "execution_count": 22,
          "data": {
            "text/plain": "((903653, 12), (804684, 12))"
          },
          "metadata": {}
        }
      ]
    },
    {
      "metadata": {
        "trusted": true,
        "_uuid": "bc279bda6db5002abdd3628988954423653402bd"
      },
      "cell_type": "code",
      "source": "train.head()",
      "execution_count": 7,
      "outputs": [
        {
          "output_type": "execute_result",
          "execution_count": 7,
          "data": {
            "text/plain": "  channelGrouping      date      ...       visitNumber visitStartTime\n0  Organic Search  20160902      ...                 1     1472830385\n1  Organic Search  20160902      ...                 1     1472880147\n2  Organic Search  20160902      ...                 1     1472865386\n3  Organic Search  20160902      ...                 1     1472881213\n4  Organic Search  20160902      ...                 2     1472822600\n\n[5 rows x 12 columns]",
            "text/html": "<div>\n<style scoped>\n    .dataframe tbody tr th:only-of-type {\n        vertical-align: middle;\n    }\n\n    .dataframe tbody tr th {\n        vertical-align: top;\n    }\n\n    .dataframe thead th {\n        text-align: right;\n    }\n</style>\n<table border=\"1\" class=\"dataframe\">\n  <thead>\n    <tr style=\"text-align: right;\">\n      <th></th>\n      <th>channelGrouping</th>\n      <th>date</th>\n      <th>device</th>\n      <th>fullVisitorId</th>\n      <th>geoNetwork</th>\n      <th>sessionId</th>\n      <th>socialEngagementType</th>\n      <th>totals</th>\n      <th>trafficSource</th>\n      <th>visitId</th>\n      <th>visitNumber</th>\n      <th>visitStartTime</th>\n    </tr>\n  </thead>\n  <tbody>\n    <tr>\n      <th>0</th>\n      <td>Organic Search</td>\n      <td>20160902</td>\n      <td>{\"browser\": \"Chrome\", \"browserVersion\": \"not a...</td>\n      <td>1131660440785968503</td>\n      <td>{\"continent\": \"Asia\", \"subContinent\": \"Western...</td>\n      <td>1131660440785968503_1472830385</td>\n      <td>Not Socially Engaged</td>\n      <td>{\"visits\": \"1\", \"hits\": \"1\", \"pageviews\": \"1\",...</td>\n      <td>{\"campaign\": \"(not set)\", \"source\": \"google\", ...</td>\n      <td>1472830385</td>\n      <td>1</td>\n      <td>1472830385</td>\n    </tr>\n    <tr>\n      <th>1</th>\n      <td>Organic Search</td>\n      <td>20160902</td>\n      <td>{\"browser\": \"Firefox\", \"browserVersion\": \"not ...</td>\n      <td>377306020877927890</td>\n      <td>{\"continent\": \"Oceania\", \"subContinent\": \"Aust...</td>\n      <td>377306020877927890_1472880147</td>\n      <td>Not Socially Engaged</td>\n      <td>{\"visits\": \"1\", \"hits\": \"1\", \"pageviews\": \"1\",...</td>\n      <td>{\"campaign\": \"(not set)\", \"source\": \"google\", ...</td>\n      <td>1472880147</td>\n      <td>1</td>\n      <td>1472880147</td>\n    </tr>\n    <tr>\n      <th>2</th>\n      <td>Organic Search</td>\n      <td>20160902</td>\n      <td>{\"browser\": \"Chrome\", \"browserVersion\": \"not a...</td>\n      <td>3895546263509774583</td>\n      <td>{\"continent\": \"Europe\", \"subContinent\": \"South...</td>\n      <td>3895546263509774583_1472865386</td>\n      <td>Not Socially Engaged</td>\n      <td>{\"visits\": \"1\", \"hits\": \"1\", \"pageviews\": \"1\",...</td>\n      <td>{\"campaign\": \"(not set)\", \"source\": \"google\", ...</td>\n      <td>1472865386</td>\n      <td>1</td>\n      <td>1472865386</td>\n    </tr>\n    <tr>\n      <th>3</th>\n      <td>Organic Search</td>\n      <td>20160902</td>\n      <td>{\"browser\": \"UC Browser\", \"browserVersion\": \"n...</td>\n      <td>4763447161404445595</td>\n      <td>{\"continent\": \"Asia\", \"subContinent\": \"Southea...</td>\n      <td>4763447161404445595_1472881213</td>\n      <td>Not Socially Engaged</td>\n      <td>{\"visits\": \"1\", \"hits\": \"1\", \"pageviews\": \"1\",...</td>\n      <td>{\"campaign\": \"(not set)\", \"source\": \"google\", ...</td>\n      <td>1472881213</td>\n      <td>1</td>\n      <td>1472881213</td>\n    </tr>\n    <tr>\n      <th>4</th>\n      <td>Organic Search</td>\n      <td>20160902</td>\n      <td>{\"browser\": \"Chrome\", \"browserVersion\": \"not a...</td>\n      <td>27294437909732085</td>\n      <td>{\"continent\": \"Europe\", \"subContinent\": \"North...</td>\n      <td>27294437909732085_1472822600</td>\n      <td>Not Socially Engaged</td>\n      <td>{\"visits\": \"1\", \"hits\": \"1\", \"pageviews\": \"1\",...</td>\n      <td>{\"campaign\": \"(not set)\", \"source\": \"google\", ...</td>\n      <td>1472822600</td>\n      <td>2</td>\n      <td>1472822600</td>\n    </tr>\n  </tbody>\n</table>\n</div>"
          },
          "metadata": {}
        }
      ]
    },
    {
      "metadata": {
        "trusted": true,
        "_uuid": "5d670a57e5fe1aaa9653bf279ddd3bc66ded9c9d"
      },
      "cell_type": "code",
      "source": "test.head()",
      "execution_count": 8,
      "outputs": [
        {
          "output_type": "execute_result",
          "execution_count": 8,
          "data": {
            "text/plain": "  channelGrouping      date      ...       visitNumber visitStartTime\n0  Organic Search  20171016      ...                 2     1508151024\n1  Organic Search  20171016      ...                 1     1508175522\n2  Organic Search  20171016      ...                 1     1508143220\n3  Organic Search  20171016      ...                 1     1508193530\n4  Organic Search  20171016      ...                 1     1508217442\n\n[5 rows x 12 columns]",
            "text/html": "<div>\n<style scoped>\n    .dataframe tbody tr th:only-of-type {\n        vertical-align: middle;\n    }\n\n    .dataframe tbody tr th {\n        vertical-align: top;\n    }\n\n    .dataframe thead th {\n        text-align: right;\n    }\n</style>\n<table border=\"1\" class=\"dataframe\">\n  <thead>\n    <tr style=\"text-align: right;\">\n      <th></th>\n      <th>channelGrouping</th>\n      <th>date</th>\n      <th>device</th>\n      <th>fullVisitorId</th>\n      <th>geoNetwork</th>\n      <th>sessionId</th>\n      <th>socialEngagementType</th>\n      <th>totals</th>\n      <th>trafficSource</th>\n      <th>visitId</th>\n      <th>visitNumber</th>\n      <th>visitStartTime</th>\n    </tr>\n  </thead>\n  <tbody>\n    <tr>\n      <th>0</th>\n      <td>Organic Search</td>\n      <td>20171016</td>\n      <td>{\"browser\": \"Chrome\", \"browserVersion\": \"not a...</td>\n      <td>6167871330617112363</td>\n      <td>{\"continent\": \"Asia\", \"subContinent\": \"Southea...</td>\n      <td>6167871330617112363_1508151024</td>\n      <td>Not Socially Engaged</td>\n      <td>{\"visits\": \"1\", \"hits\": \"4\", \"pageviews\": \"4\"}</td>\n      <td>{\"campaign\": \"(not set)\", \"source\": \"google\", ...</td>\n      <td>1508151024</td>\n      <td>2</td>\n      <td>1508151024</td>\n    </tr>\n    <tr>\n      <th>1</th>\n      <td>Organic Search</td>\n      <td>20171016</td>\n      <td>{\"browser\": \"Chrome\", \"browserVersion\": \"not a...</td>\n      <td>0643697640977915618</td>\n      <td>{\"continent\": \"Europe\", \"subContinent\": \"South...</td>\n      <td>0643697640977915618_1508175522</td>\n      <td>Not Socially Engaged</td>\n      <td>{\"visits\": \"1\", \"hits\": \"5\", \"pageviews\": \"5\",...</td>\n      <td>{\"campaign\": \"(not set)\", \"source\": \"google\", ...</td>\n      <td>1508175522</td>\n      <td>1</td>\n      <td>1508175522</td>\n    </tr>\n    <tr>\n      <th>2</th>\n      <td>Organic Search</td>\n      <td>20171016</td>\n      <td>{\"browser\": \"Chrome\", \"browserVersion\": \"not a...</td>\n      <td>6059383810968229466</td>\n      <td>{\"continent\": \"Europe\", \"subContinent\": \"Weste...</td>\n      <td>6059383810968229466_1508143220</td>\n      <td>Not Socially Engaged</td>\n      <td>{\"visits\": \"1\", \"hits\": \"7\", \"pageviews\": \"7\",...</td>\n      <td>{\"campaign\": \"(not set)\", \"source\": \"google\", ...</td>\n      <td>1508143220</td>\n      <td>1</td>\n      <td>1508143220</td>\n    </tr>\n    <tr>\n      <th>3</th>\n      <td>Organic Search</td>\n      <td>20171016</td>\n      <td>{\"browser\": \"Safari\", \"browserVersion\": \"not a...</td>\n      <td>2376720078563423631</td>\n      <td>{\"continent\": \"Americas\", \"subContinent\": \"Nor...</td>\n      <td>2376720078563423631_1508193530</td>\n      <td>Not Socially Engaged</td>\n      <td>{\"visits\": \"1\", \"hits\": \"8\", \"pageviews\": \"4\",...</td>\n      <td>{\"campaign\": \"(not set)\", \"source\": \"google\", ...</td>\n      <td>1508193530</td>\n      <td>1</td>\n      <td>1508193530</td>\n    </tr>\n    <tr>\n      <th>4</th>\n      <td>Organic Search</td>\n      <td>20171016</td>\n      <td>{\"browser\": \"Safari\", \"browserVersion\": \"not a...</td>\n      <td>2314544520795440038</td>\n      <td>{\"continent\": \"Americas\", \"subContinent\": \"Nor...</td>\n      <td>2314544520795440038_1508217442</td>\n      <td>Not Socially Engaged</td>\n      <td>{\"visits\": \"1\", \"hits\": \"9\", \"pageviews\": \"4\",...</td>\n      <td>{\"campaign\": \"(not set)\", \"source\": \"google\", ...</td>\n      <td>1508217442</td>\n      <td>1</td>\n      <td>1508217442</td>\n    </tr>\n  </tbody>\n</table>\n</div>"
          },
          "metadata": {}
        }
      ]
    },
    {
      "metadata": {
        "trusted": true,
        "_uuid": "e5cc8b8c39dafdc7710ccd6538cb248b636d135c"
      },
      "cell_type": "code",
      "source": "train.info()",
      "execution_count": null,
      "outputs": []
    },
    {
      "metadata": {
        "trusted": true,
        "_uuid": "0da4c6cc10fda8428d567b2f0237bc7f94841dd5"
      },
      "cell_type": "markdown",
      "source": "### Define folding strategy"
    },
    {
      "metadata": {
        "trusted": true,
        "_uuid": "8006e843fc967827aad393587b600b5a2bf1901c"
      },
      "cell_type": "code",
      "source": "def get_folds(df=None, n_splits=5):\n    \"\"\"Returns dataframe indices corresponding to Visitors Group KFold\"\"\"\n    # Get sorted unique visitors\n    unique_vis = np.array(sorted(df['fullVisitorId'].unique()))\n\n    # Get folds\n    folds = GroupKFold(n_splits=n_splits)\n    fold_ids = []\n    ids = np.arange(df.shape[0])\n    for trn_vis, val_vis in folds.split(X=unique_vis, y=unique_vis, groups=unique_vis):\n        fold_ids.append(\n            [\n                ids[df['fullVisitorId'].isin(unique_vis[trn_vis])],\n                ids[df['fullVisitorId'].isin(unique_vis[val_vis])]\n            ]\n        )\n\n    return fold_ids",
      "execution_count": 9,
      "outputs": []
    },
    {
      "metadata": {
        "trusted": true,
        "_uuid": "c78b88c7904014b4c75d214aa1c1bc6e10f1edb8"
      },
      "cell_type": "code",
      "source": "# Columns of train\ntrain.columns",
      "execution_count": 23,
      "outputs": [
        {
          "output_type": "execute_result",
          "execution_count": 23,
          "data": {
            "text/plain": "Index(['channelGrouping', 'date', 'device', 'fullVisitorId', 'geoNetwork',\n       'sessionId', 'socialEngagementType', 'totals', 'trafficSource',\n       'visitId', 'visitNumber', 'visitStartTime'],\n      dtype='object')"
          },
          "metadata": {}
        }
      ]
    },
    {
      "metadata": {
        "trusted": true,
        "_uuid": "7e69ae97d2ca4c30a90872014ef988e5f60317f9"
      },
      "cell_type": "code",
      "source": "test.columns",
      "execution_count": 24,
      "outputs": [
        {
          "output_type": "execute_result",
          "execution_count": 24,
          "data": {
            "text/plain": "Index(['channelGrouping', 'date', 'device', 'fullVisitorId', 'geoNetwork',\n       'sessionId', 'socialEngagementType', 'totals', 'trafficSource',\n       'visitId', 'visitNumber', 'visitStartTime'],\n      dtype='object')"
          },
          "metadata": {}
        }
      ]
    },
    {
      "metadata": {
        "_uuid": "160f045aa867e333bba1666c950b42350d8a4468"
      },
      "cell_type": "markdown",
      "source": "### Get session target"
    },
    {
      "metadata": {
        "trusted": true,
        "_uuid": "3adfb3582bec463cbf82c642dd691c8085e7ff01"
      },
      "cell_type": "code",
      "source": "train.isnull().sum()",
      "execution_count": 25,
      "outputs": [
        {
          "output_type": "execute_result",
          "execution_count": 25,
          "data": {
            "text/plain": "channelGrouping         0\ndate                    0\ndevice                  0\nfullVisitorId           0\ngeoNetwork              0\nsessionId               0\nsocialEngagementType    0\ntotals                  0\ntrafficSource           0\nvisitId                 0\nvisitNumber             0\nvisitStartTime          0\ndtype: int64"
          },
          "metadata": {}
        }
      ]
    },
    {
      "metadata": {
        "trusted": true,
        "_uuid": "bdbb20b9a3386afc1bda3110ccc8d50720870269"
      },
      "cell_type": "code",
      "source": "y_reg = train['totals']\ndel train['totals']\nif 'totals' in test.columns:\n    del test['totals']",
      "execution_count": 26,
      "outputs": []
    },
    {
      "metadata": {
        "_uuid": "eca833ab21044155094bcef8a60b8a79ff82be19"
      },
      "cell_type": "markdown",
      "source": "### Add date features\nOnly add the one I think can ganeralize"
    },
    {
      "metadata": {
        "trusted": true,
        "_uuid": "c5e0bb6742a7ef2f2387b6d044c3cd2263532071"
      },
      "cell_type": "code",
      "source": "for df in [train, test]:\n    df['date'] = pd.to_datetime(df['visitStartTime'], unit='s')\n    df['sess_date_dow'] = df['date'].dt.dayofweek\n    df['sess_date_hours'] = df['date'].dt.hour\n    df['sess_date_dom'] = df['date'].dt.day",
      "execution_count": 29,
      "outputs": []
    },
    {
      "metadata": {
        "_uuid": "55520c0c847da97e83b75f022934cd81c597e4d9"
      },
      "cell_type": "markdown",
      "source": "### Create features list"
    },
    {
      "metadata": {
        "trusted": true,
        "_uuid": "8831766000377b16a3c7c00b40d8cf11179e80b3"
      },
      "cell_type": "code",
      "source": "excluded_features = [\n    'date', 'fullVisitorId', 'sessionId', 'totals', 'visitId', 'visitStartTime'\n]\n\ncategorical_features = [\n    _f for _f in train.columns\n    if (_f not in excluded_features) & (train[_f].dtype == 'object')\n]",
      "execution_count": 30,
      "outputs": []
    },
    {
      "metadata": {
        "_uuid": "9a1444bae72bd1c92c310fe45662d374b39f9b93"
      },
      "cell_type": "markdown",
      "source": "### Factorize categoricals"
    },
    {
      "metadata": {
        "trusted": true,
        "_uuid": "c728adf9b637131c42239bc5e2b20a974a1f5a0f"
      },
      "cell_type": "code",
      "source": "for f in categorical_features:\n    train[f], indexer = pd.factorize(train[f])\n    test[f] = indexer.get_indexer(test[f])",
      "execution_count": 31,
      "outputs": []
    },
    {
      "metadata": {
        "_uuid": "e5324f0c3db3fe04531922495d5cd2902cb86193"
      },
      "cell_type": "markdown",
      "source": "### Predict revenues at session level"
    },
    {
      "metadata": {
        "trusted": true,
        "_uuid": "33d73e4fe215b8bc7c0ef77d1c2c8ddfe39bf30d"
      },
      "cell_type": "code",
      "source": "folds = get_folds(df=train, n_splits=5)\n\ntrain_features = [_f for _f in train.columns if _f not in excluded_features]\nprint(train_features)\n\nimportances = pd.DataFrame()\noof_reg_preds = np.zeros(train.shape[0])\nsub_reg_preds = np.zeros(test.shape[0])\nfor fold_, (trn_, val_) in enumerate(folds):\n    trn_x, trn_y = train[train_features].iloc[trn_], y_reg.iloc[trn_]\n    val_x, val_y = train[train_features].iloc[val_], y_reg.iloc[val_]\n    \n    reg = lgb.LGBMRegressor(\n        num_leaves=31,\n        learning_rate=0.03,\n        n_estimators=1000,\n        subsample=.9,\n        colsample_bytree=.9,\n        random_state=1\n    )\n    reg.fit(\n        trn_x, np.log1p(trn_y),\n        eval_set=[(val_x, np.log1p(val_y))],\n        early_stopping_rounds=50,\n        verbose=100,\n        eval_metric='rmse'\n    )\n    imp_df = pd.DataFrame()\n    imp_df['feature'] = train_features\n    imp_df['gain'] = reg.booster_.feature_importance(importance_type='gain')\n    \n    imp_df['fold'] = fold_ + 1\n    importances = pd.concat([importances, imp_df], axis=0, sort=False)\n    \n    oof_reg_preds[val_] = reg.predict(val_x, num_iteration=reg.best_iteration_)\n    oof_reg_preds[oof_reg_preds < 0] = 0\n    _preds = reg.predict(test[train_features], num_iteration=reg.best_iteration_)\n    _preds[_preds < 0] = 0\n    sub_reg_preds += np.expm1(_preds) / len(folds)\n    \nmean_squared_error(np.log1p(y_reg), oof_reg_preds) ** .5",
      "execution_count": 32,
      "outputs": [
        {
          "output_type": "stream",
          "text": "['channelGrouping', 'device', 'geoNetwork', 'socialEngagementType', 'trafficSource', 'visitNumber', 'sess_date_dow', 'sess_date_hours', 'sess_date_dom']\n",
          "name": "stdout"
        },
        {
          "output_type": "error",
          "ename": "AttributeError",
          "evalue": "'str' object has no attribute 'log1p'",
          "traceback": [
            "\u001b[0;31m---------------------------------------------------------------------------\u001b[0m",
            "\u001b[0;31mAttributeError\u001b[0m                            Traceback (most recent call last)",
            "\u001b[0;32m<ipython-input-32-3a726fa3e11b>\u001b[0m in \u001b[0;36m<module>\u001b[0;34m()\u001b[0m\n\u001b[1;32m     20\u001b[0m     )\n\u001b[1;32m     21\u001b[0m     reg.fit(\n\u001b[0;32m---> 22\u001b[0;31m         \u001b[0mtrn_x\u001b[0m\u001b[0;34m,\u001b[0m \u001b[0mnp\u001b[0m\u001b[0;34m.\u001b[0m\u001b[0mlog1p\u001b[0m\u001b[0;34m(\u001b[0m\u001b[0mtrn_y\u001b[0m\u001b[0;34m)\u001b[0m\u001b[0;34m,\u001b[0m\u001b[0;34m\u001b[0m\u001b[0m\n\u001b[0m\u001b[1;32m     23\u001b[0m         \u001b[0meval_set\u001b[0m\u001b[0;34m=\u001b[0m\u001b[0;34m[\u001b[0m\u001b[0;34m(\u001b[0m\u001b[0mval_x\u001b[0m\u001b[0;34m,\u001b[0m \u001b[0mnp\u001b[0m\u001b[0;34m.\u001b[0m\u001b[0mlog1p\u001b[0m\u001b[0;34m(\u001b[0m\u001b[0mval_y\u001b[0m\u001b[0;34m)\u001b[0m\u001b[0;34m)\u001b[0m\u001b[0;34m]\u001b[0m\u001b[0;34m,\u001b[0m\u001b[0;34m\u001b[0m\u001b[0m\n\u001b[1;32m     24\u001b[0m         \u001b[0mearly_stopping_rounds\u001b[0m\u001b[0;34m=\u001b[0m\u001b[0;36m50\u001b[0m\u001b[0;34m,\u001b[0m\u001b[0;34m\u001b[0m\u001b[0m\n",
            "\u001b[0;31mAttributeError\u001b[0m: 'str' object has no attribute 'log1p'"
          ]
        }
      ]
    },
    {
      "metadata": {
        "trusted": true,
        "_uuid": "4c4bc164b421c0151a84308527551ba57797cb1f"
      },
      "cell_type": "code",
      "source": "",
      "execution_count": null,
      "outputs": []
    },
    {
      "metadata": {
        "trusted": true,
        "_uuid": "dc3c3dce65dc73dd7346002aa5dca83b551fa6da"
      },
      "cell_type": "code",
      "source": "",
      "execution_count": null,
      "outputs": []
    },
    {
      "metadata": {
        "trusted": true,
        "_uuid": "1c4e74cda6cb2ff1141065b9f1522c1a5e718582"
      },
      "cell_type": "code",
      "source": "",
      "execution_count": null,
      "outputs": []
    }
  ],
  "metadata": {
    "kernelspec": {
      "display_name": "Python 3",
      "language": "python",
      "name": "python3"
    },
    "language_info": {
      "name": "python",
      "version": "3.6.6",
      "mimetype": "text/x-python",
      "codemirror_mode": {
        "name": "ipython",
        "version": 3
      },
      "pygments_lexer": "ipython3",
      "nbconvert_exporter": "python",
      "file_extension": ".py"
    }
  },
  "nbformat": 4,
  "nbformat_minor": 1
}